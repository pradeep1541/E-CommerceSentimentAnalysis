{
 "cells": [
  {
   "cell_type": "code",
   "execution_count": 1,
   "id": "9c28c5bf",
   "metadata": {
    "execution": {
     "iopub.execute_input": "2023-02-25T14:34:06.436864Z",
     "iopub.status.busy": "2023-02-25T14:34:06.436378Z",
     "iopub.status.idle": "2023-02-25T14:34:06.447090Z",
     "shell.execute_reply": "2023-02-25T14:34:06.445700Z"
    },
    "id": "qso3F35VdHjI",
    "papermill": {
     "duration": 0.030626,
     "end_time": "2023-02-25T14:34:06.450394",
     "exception": false,
     "start_time": "2023-02-25T14:34:06.419768",
     "status": "completed"
    },
    "tags": []
   },
   "outputs": [],
   "source": [
    "import numpy as np\n",
    "import pandas as pd"
   ]
  },
  {
   "cell_type": "code",
   "execution_count": 2,
   "id": "362570ee",
   "metadata": {
    "execution": {
     "iopub.execute_input": "2023-02-25T14:34:06.479548Z",
     "iopub.status.busy": "2023-02-25T14:34:06.479163Z",
     "iopub.status.idle": "2023-02-25T14:34:07.369444Z",
     "shell.execute_reply": "2023-02-25T14:34:07.368411Z"
    },
    "id": "l_Nxn8V3dHjP",
    "papermill": {
     "duration": 0.907913,
     "end_time": "2023-02-25T14:34:07.372239",
     "exception": false,
     "start_time": "2023-02-25T14:34:06.464326",
     "status": "completed"
    },
    "tags": []
   },
   "outputs": [],
   "source": [
    "data=pd.read_csv(\"Dataset-SA.csv\")\n",
    "df=pd.DataFrame(data)"
   ]
  },
  {
   "cell_type": "markdown",
   "id": "9b2829fd",
   "metadata": {},
   "source": [
    "# EDA"
   ]
  },
  {
   "cell_type": "code",
   "execution_count": 3,
   "id": "53125c49",
   "metadata": {
    "execution": {
     "iopub.execute_input": "2023-02-25T14:34:07.401688Z",
     "iopub.status.busy": "2023-02-25T14:34:07.401250Z",
     "iopub.status.idle": "2023-02-25T14:34:07.493098Z",
     "shell.execute_reply": "2023-02-25T14:34:07.491632Z"
    },
    "id": "x7jd8gOsdHjS",
    "outputId": "0c379e1b-a758-4dfb-b2a6-f966cffbbd55",
    "papermill": {
     "duration": 0.11053,
     "end_time": "2023-02-25T14:34:07.496014",
     "exception": false,
     "start_time": "2023-02-25T14:34:07.385484",
     "status": "completed"
    },
    "tags": []
   },
   "outputs": [
    {
     "name": "stdout",
     "output_type": "stream",
     "text": [
      "<class 'pandas.core.frame.DataFrame'>\n",
      "RangeIndex: 205052 entries, 0 to 205051\n",
      "Data columns (total 6 columns):\n",
      " #   Column         Non-Null Count   Dtype \n",
      "---  ------         --------------   ----- \n",
      " 0   product_name   205052 non-null  object\n",
      " 1   product_price  205052 non-null  object\n",
      " 2   Rate           205052 non-null  object\n",
      " 3   Review         180388 non-null  object\n",
      " 4   Summary        205041 non-null  object\n",
      " 5   Sentiment      205052 non-null  object\n",
      "dtypes: object(6)\n",
      "memory usage: 9.4+ MB\n"
     ]
    }
   ],
   "source": [
    "data.info()"
   ]
  },
  {
   "cell_type": "code",
   "execution_count": 4,
   "id": "b4c364fd",
   "metadata": {
    "execution": {
     "iopub.execute_input": "2023-02-25T14:34:07.524649Z",
     "iopub.status.busy": "2023-02-25T14:34:07.524172Z",
     "iopub.status.idle": "2023-02-25T14:34:07.755503Z",
     "shell.execute_reply": "2023-02-25T14:34:07.754344Z"
    },
    "id": "wmeY0IPfdHjV",
    "outputId": "7599a604-8fec-4b8d-e934-8153fe491998",
    "papermill": {
     "duration": 0.24895,
     "end_time": "2023-02-25T14:34:07.758230",
     "exception": false,
     "start_time": "2023-02-25T14:34:07.509280",
     "status": "completed"
    },
    "tags": []
   },
   "outputs": [
    {
     "data": {
      "text/html": [
       "<div>\n",
       "<style scoped>\n",
       "    .dataframe tbody tr th:only-of-type {\n",
       "        vertical-align: middle;\n",
       "    }\n",
       "\n",
       "    .dataframe tbody tr th {\n",
       "        vertical-align: top;\n",
       "    }\n",
       "\n",
       "    .dataframe thead th {\n",
       "        text-align: right;\n",
       "    }\n",
       "</style>\n",
       "<table border=\"1\" class=\"dataframe\">\n",
       "  <thead>\n",
       "    <tr style=\"text-align: right;\">\n",
       "      <th></th>\n",
       "      <th>product_name</th>\n",
       "      <th>product_price</th>\n",
       "      <th>Rate</th>\n",
       "      <th>Review</th>\n",
       "      <th>Summary</th>\n",
       "      <th>Sentiment</th>\n",
       "    </tr>\n",
       "  </thead>\n",
       "  <tbody>\n",
       "    <tr>\n",
       "      <th>count</th>\n",
       "      <td>205052</td>\n",
       "      <td>205052</td>\n",
       "      <td>205052</td>\n",
       "      <td>180388</td>\n",
       "      <td>205041</td>\n",
       "      <td>205052</td>\n",
       "    </tr>\n",
       "    <tr>\n",
       "      <th>unique</th>\n",
       "      <td>958</td>\n",
       "      <td>525</td>\n",
       "      <td>8</td>\n",
       "      <td>1324</td>\n",
       "      <td>92923</td>\n",
       "      <td>3</td>\n",
       "    </tr>\n",
       "    <tr>\n",
       "      <th>top</th>\n",
       "      <td>cello Pack of 18 Opalware Cello Dazzle Lush Fi...</td>\n",
       "      <td>1299</td>\n",
       "      <td>5</td>\n",
       "      <td>wonderful</td>\n",
       "      <td>good</td>\n",
       "      <td>positive</td>\n",
       "    </tr>\n",
       "    <tr>\n",
       "      <th>freq</th>\n",
       "      <td>6005</td>\n",
       "      <td>9150</td>\n",
       "      <td>118765</td>\n",
       "      <td>9016</td>\n",
       "      <td>17430</td>\n",
       "      <td>166581</td>\n",
       "    </tr>\n",
       "  </tbody>\n",
       "</table>\n",
       "</div>"
      ],
      "text/plain": [
       "                                             product_name product_price  \\\n",
       "count                                              205052        205052   \n",
       "unique                                                958           525   \n",
       "top     cello Pack of 18 Opalware Cello Dazzle Lush Fi...          1299   \n",
       "freq                                                 6005          9150   \n",
       "\n",
       "          Rate     Review Summary Sentiment  \n",
       "count   205052     180388  205041    205052  \n",
       "unique       8       1324   92923         3  \n",
       "top          5  wonderful    good  positive  \n",
       "freq    118765       9016   17430    166581  "
      ]
     },
     "execution_count": 4,
     "metadata": {},
     "output_type": "execute_result"
    }
   ],
   "source": [
    "data.describe()"
   ]
  },
  {
   "cell_type": "code",
   "execution_count": 5,
   "id": "0930ec37",
   "metadata": {
    "execution": {
     "iopub.execute_input": "2023-02-25T14:34:07.789001Z",
     "iopub.status.busy": "2023-02-25T14:34:07.788539Z",
     "iopub.status.idle": "2023-02-25T14:34:07.803281Z",
     "shell.execute_reply": "2023-02-25T14:34:07.801995Z"
    },
    "id": "HFdojz1ydHjX",
    "outputId": "e6840bd8-be9a-4e33-c05a-902199ae10b5",
    "papermill": {
     "duration": 0.034968,
     "end_time": "2023-02-25T14:34:07.807275",
     "exception": false,
     "start_time": "2023-02-25T14:34:07.772307",
     "status": "completed"
    },
    "tags": []
   },
   "outputs": [
    {
     "data": {
      "text/html": [
       "<div>\n",
       "<style scoped>\n",
       "    .dataframe tbody tr th:only-of-type {\n",
       "        vertical-align: middle;\n",
       "    }\n",
       "\n",
       "    .dataframe tbody tr th {\n",
       "        vertical-align: top;\n",
       "    }\n",
       "\n",
       "    .dataframe thead th {\n",
       "        text-align: right;\n",
       "    }\n",
       "</style>\n",
       "<table border=\"1\" class=\"dataframe\">\n",
       "  <thead>\n",
       "    <tr style=\"text-align: right;\">\n",
       "      <th></th>\n",
       "      <th>product_name</th>\n",
       "      <th>product_price</th>\n",
       "      <th>Rate</th>\n",
       "      <th>Review</th>\n",
       "      <th>Summary</th>\n",
       "      <th>Sentiment</th>\n",
       "    </tr>\n",
       "  </thead>\n",
       "  <tbody>\n",
       "    <tr>\n",
       "      <th>0</th>\n",
       "      <td>Candes 12 L Room/Personal Air Cooler??????(Whi...</td>\n",
       "      <td>3999</td>\n",
       "      <td>5</td>\n",
       "      <td>super!</td>\n",
       "      <td>great cooler excellent air flow and for this p...</td>\n",
       "      <td>positive</td>\n",
       "    </tr>\n",
       "    <tr>\n",
       "      <th>1</th>\n",
       "      <td>Candes 12 L Room/Personal Air Cooler??????(Whi...</td>\n",
       "      <td>3999</td>\n",
       "      <td>5</td>\n",
       "      <td>awesome</td>\n",
       "      <td>best budget 2 fit cooler nice cooling</td>\n",
       "      <td>positive</td>\n",
       "    </tr>\n",
       "    <tr>\n",
       "      <th>2</th>\n",
       "      <td>Candes 12 L Room/Personal Air Cooler??????(Whi...</td>\n",
       "      <td>3999</td>\n",
       "      <td>3</td>\n",
       "      <td>fair</td>\n",
       "      <td>the quality is good but the power of air is de...</td>\n",
       "      <td>positive</td>\n",
       "    </tr>\n",
       "    <tr>\n",
       "      <th>3</th>\n",
       "      <td>Candes 12 L Room/Personal Air Cooler??????(Whi...</td>\n",
       "      <td>3999</td>\n",
       "      <td>1</td>\n",
       "      <td>useless product</td>\n",
       "      <td>very bad product its a only a fan</td>\n",
       "      <td>negative</td>\n",
       "    </tr>\n",
       "    <tr>\n",
       "      <th>4</th>\n",
       "      <td>Candes 12 L Room/Personal Air Cooler??????(Whi...</td>\n",
       "      <td>3999</td>\n",
       "      <td>3</td>\n",
       "      <td>fair</td>\n",
       "      <td>ok ok product</td>\n",
       "      <td>neutral</td>\n",
       "    </tr>\n",
       "  </tbody>\n",
       "</table>\n",
       "</div>"
      ],
      "text/plain": [
       "                                        product_name product_price Rate  \\\n",
       "0  Candes 12 L Room/Personal Air Cooler??????(Whi...          3999    5   \n",
       "1  Candes 12 L Room/Personal Air Cooler??????(Whi...          3999    5   \n",
       "2  Candes 12 L Room/Personal Air Cooler??????(Whi...          3999    3   \n",
       "3  Candes 12 L Room/Personal Air Cooler??????(Whi...          3999    1   \n",
       "4  Candes 12 L Room/Personal Air Cooler??????(Whi...          3999    3   \n",
       "\n",
       "            Review                                            Summary  \\\n",
       "0           super!  great cooler excellent air flow and for this p...   \n",
       "1          awesome              best budget 2 fit cooler nice cooling   \n",
       "2             fair  the quality is good but the power of air is de...   \n",
       "3  useless product                  very bad product its a only a fan   \n",
       "4             fair                                      ok ok product   \n",
       "\n",
       "  Sentiment  \n",
       "0  positive  \n",
       "1  positive  \n",
       "2  positive  \n",
       "3  negative  \n",
       "4   neutral  "
      ]
     },
     "execution_count": 5,
     "metadata": {},
     "output_type": "execute_result"
    }
   ],
   "source": [
    "data.head()"
   ]
  },
  {
   "cell_type": "code",
   "execution_count": 6,
   "id": "5563a59e",
   "metadata": {
    "execution": {
     "iopub.execute_input": "2023-02-25T14:34:07.837321Z",
     "iopub.status.busy": "2023-02-25T14:34:07.836179Z",
     "iopub.status.idle": "2023-02-25T14:34:08.902197Z",
     "shell.execute_reply": "2023-02-25T14:34:08.901067Z"
    },
    "id": "GRKDzbcjdHj3",
    "papermill": {
     "duration": 1.08376,
     "end_time": "2023-02-25T14:34:08.904921",
     "exception": false,
     "start_time": "2023-02-25T14:34:07.821161",
     "status": "completed"
    },
    "tags": []
   },
   "outputs": [],
   "source": [
    "import matplotlib.pyplot as plt\n",
    "import seaborn as sns\n",
    "%matplotlib inline"
   ]
  },
  {
   "cell_type": "code",
   "execution_count": 7,
   "id": "31e87370",
   "metadata": {
    "execution": {
     "iopub.execute_input": "2023-02-25T14:34:08.936270Z",
     "iopub.status.busy": "2023-02-25T14:34:08.935876Z",
     "iopub.status.idle": "2023-02-25T14:34:09.328024Z",
     "shell.execute_reply": "2023-02-25T14:34:09.326703Z"
    },
    "id": "MK7GPfOZdHj5",
    "outputId": "d1cabe4d-f8e8-4c1a-d59c-4bd6bc349dac",
    "papermill": {
     "duration": 0.41007,
     "end_time": "2023-02-25T14:34:09.330893",
     "exception": false,
     "start_time": "2023-02-25T14:34:08.920823",
     "status": "completed"
    },
    "tags": []
   },
   "outputs": [
    {
     "data": {
      "image/png": "[encoded data removed]",
      "text/plain": [
       "<Figure size 432x288 with 1 Axes>"
      ]
     },
     "metadata": {
      "needs_background": "light"
     },
     "output_type": "display_data"
    }
   ],
   "source": [
    "ax=sns.countplot(x='Sentiment',data=data)"
   ]
  },
  {
   "cell_type": "markdown",
   "id": "aa4a6198",
   "metadata": {},
   "source": [
    "# Data Extraction and Cleaning"
   ]
  },
  {
   "cell_type": "code",
   "execution_count": 8,
   "id": "9258f827",
   "metadata": {
    "execution": {
     "iopub.execute_input": "2023-02-25T14:34:09.401026Z",
     "iopub.status.busy": "2023-02-25T14:34:09.400541Z",
     "iopub.status.idle": "2023-02-25T14:34:09.433492Z",
     "shell.execute_reply": "2023-02-25T14:34:09.432245Z"
    },
    "papermill": {
     "duration": 0.052311,
     "end_time": "2023-02-25T14:34:09.436363",
     "exception": false,
     "start_time": "2023-02-25T14:34:09.384052",
     "status": "completed"
    },
    "tags": []
   },
   "outputs": [],
   "source": [
    "data=data[data.Sentiment.isin(['neutral']) == False]\n",
    "df=pd.DataFrame(data)"
   ]
  },
  {
   "cell_type": "code",
   "execution_count": 9,
   "id": "7fe189ed",
   "metadata": {
    "execution": {
     "iopub.execute_input": "2023-02-25T14:34:09.467414Z",
     "iopub.status.busy": "2023-02-25T14:34:09.466989Z",
     "iopub.status.idle": "2023-02-25T14:34:09.804616Z",
     "shell.execute_reply": "2023-02-25T14:34:09.803309Z"
    },
    "id": "MK7GPfOZdHj5",
    "outputId": "d1cabe4d-f8e8-4c1a-d59c-4bd6bc349dac",
    "papermill": {
     "duration": 0.356086,
     "end_time": "2023-02-25T14:34:09.807223",
     "exception": false,
     "start_time": "2023-02-25T14:34:09.451137",
     "status": "completed"
    },
    "tags": []
   },
   "outputs": [
    {
     "data": {
      "image/png": "[encoded data removed]",
      "text/plain": [
       "<Figure size 432x288 with 1 Axes>"
      ]
     },
     "metadata": {
      "needs_background": "light"
     },
     "output_type": "display_data"
    }
   ],
   "source": [
    "ax=sns.countplot(x='Sentiment',data=data)"
   ]
  },
  {
   "cell_type": "code",
   "execution_count": 10,
   "id": "dec3ab47",
   "metadata": {
    "execution": {
     "iopub.execute_input": "2023-02-25T14:34:09.839099Z",
     "iopub.status.busy": "2023-02-25T14:34:09.838036Z",
     "iopub.status.idle": "2023-02-25T14:34:09.856569Z",
     "shell.execute_reply": "2023-02-25T14:34:09.855663Z"
    },
    "id": "-I-GriztdHkJ",
    "outputId": "a9f6d306-62cb-4489-ad9a-17f3b449037f",
    "papermill": {
     "duration": 0.037173,
     "end_time": "2023-02-25T14:34:09.859162",
     "exception": false,
     "start_time": "2023-02-25T14:34:09.821989",
     "status": "completed"
    },
    "tags": []
   },
   "outputs": [
    {
     "data": {
      "text/plain": [
       "positive    166581\n",
       "negative     28232\n",
       "Name: Sentiment, dtype: int64"
      ]
     },
     "execution_count": 10,
     "metadata": {},
     "output_type": "execute_result"
    }
   ],
   "source": [
    "data['Sentiment'].value_counts()"
   ]
  },
  {
   "cell_type": "code",
   "execution_count": 11,
   "id": "e5fc71a2",
   "metadata": {},
   "outputs": [
    {
     "data": {
      "text/plain": [
       "product_name         0\n",
       "product_price        0\n",
       "Rate                 0\n",
       "Review           23236\n",
       "Summary              6\n",
       "Sentiment            0\n",
       "dtype: int64"
      ]
     },
     "execution_count": 11,
     "metadata": {},
     "output_type": "execute_result"
    }
   ],
   "source": [
    "data.isnull().sum()"
   ]
  },
  {
   "cell_type": "code",
   "execution_count": 12,
   "id": "62e620a0",
   "metadata": {},
   "outputs": [],
   "source": [
    "data=data.dropna()"
   ]
  },
  {
   "cell_type": "code",
   "execution_count": 13,
   "id": "0898c7ba",
   "metadata": {},
   "outputs": [
    {
     "data": {
      "text/plain": [
       "product_name     0\n",
       "product_price    0\n",
       "Rate             0\n",
       "Review           0\n",
       "Summary          0\n",
       "Sentiment        0\n",
       "dtype: int64"
      ]
     },
     "execution_count": 13,
     "metadata": {},
     "output_type": "execute_result"
    }
   ],
   "source": [
    "data.isnull().sum()"
   ]
  },
  {
   "cell_type": "code",
   "execution_count": 14,
   "id": "0298e1bb",
   "metadata": {
    "execution": {
     "iopub.execute_input": "2023-02-25T14:34:09.890584Z",
     "iopub.status.busy": "2023-02-25T14:34:09.889888Z",
     "iopub.status.idle": "2023-02-25T14:34:10.102309Z",
     "shell.execute_reply": "2023-02-25T14:34:10.101084Z"
    },
    "id": "bOz3RZwCdHkL",
    "outputId": "3ca3a56a-2dc8-42f8-f0c5-44b0249de3a8",
    "papermill": {
     "duration": 0.231028,
     "end_time": "2023-02-25T14:34:10.104850",
     "exception": false,
     "start_time": "2023-02-25T14:34:09.873822",
     "status": "completed"
    },
    "tags": []
   },
   "outputs": [
    {
     "data": {
      "text/html": [
       "<div>\n",
       "<style scoped>\n",
       "    .dataframe tbody tr th:only-of-type {\n",
       "        vertical-align: middle;\n",
       "    }\n",
       "\n",
       "    .dataframe tbody tr th {\n",
       "        vertical-align: top;\n",
       "    }\n",
       "\n",
       "    .dataframe thead th {\n",
       "        text-align: right;\n",
       "    }\n",
       "</style>\n",
       "<table border=\"1\" class=\"dataframe\">\n",
       "  <thead>\n",
       "    <tr style=\"text-align: right;\">\n",
       "      <th></th>\n",
       "      <th>product_name</th>\n",
       "      <th>product_price</th>\n",
       "      <th>Rate</th>\n",
       "      <th>Review</th>\n",
       "      <th>Summary</th>\n",
       "      <th>Sentiment</th>\n",
       "    </tr>\n",
       "  </thead>\n",
       "  <tbody>\n",
       "    <tr>\n",
       "      <th>0</th>\n",
       "      <td>Candes 12 L Room/Personal Air Cooler??????(Whi...</td>\n",
       "      <td>3999</td>\n",
       "      <td>5</td>\n",
       "      <td>super!</td>\n",
       "      <td>great cooler excellent air flow and for this p...</td>\n",
       "      <td>positive</td>\n",
       "    </tr>\n",
       "    <tr>\n",
       "      <th>1</th>\n",
       "      <td>Candes 12 L Room/Personal Air Cooler??????(Whi...</td>\n",
       "      <td>3999</td>\n",
       "      <td>5</td>\n",
       "      <td>awesome</td>\n",
       "      <td>best budget 2 fit cooler nice cooling</td>\n",
       "      <td>positive</td>\n",
       "    </tr>\n",
       "    <tr>\n",
       "      <th>2</th>\n",
       "      <td>Candes 12 L Room/Personal Air Cooler??????(Whi...</td>\n",
       "      <td>3999</td>\n",
       "      <td>3</td>\n",
       "      <td>fair</td>\n",
       "      <td>the quality is good but the power of air is de...</td>\n",
       "      <td>positive</td>\n",
       "    </tr>\n",
       "    <tr>\n",
       "      <th>3</th>\n",
       "      <td>Candes 12 L Room/Personal Air Cooler??????(Whi...</td>\n",
       "      <td>3999</td>\n",
       "      <td>1</td>\n",
       "      <td>useless product</td>\n",
       "      <td>very bad product its a only a fan</td>\n",
       "      <td>negative</td>\n",
       "    </tr>\n",
       "    <tr>\n",
       "      <th>5</th>\n",
       "      <td>Candes 12 L Room/Personal Air Cooler??????(Whi...</td>\n",
       "      <td>3999</td>\n",
       "      <td>5</td>\n",
       "      <td>awesome</td>\n",
       "      <td>the cooler is really fantastic and provides go...</td>\n",
       "      <td>positive</td>\n",
       "    </tr>\n",
       "  </tbody>\n",
       "</table>\n",
       "</div>"
      ],
      "text/plain": [
       "                                        product_name product_price Rate  \\\n",
       "0  Candes 12 L Room/Personal Air Cooler??????(Whi...          3999    5   \n",
       "1  Candes 12 L Room/Personal Air Cooler??????(Whi...          3999    5   \n",
       "2  Candes 12 L Room/Personal Air Cooler??????(Whi...          3999    3   \n",
       "3  Candes 12 L Room/Personal Air Cooler??????(Whi...          3999    1   \n",
       "5  Candes 12 L Room/Personal Air Cooler??????(Whi...          3999    5   \n",
       "\n",
       "            Review                                            Summary  \\\n",
       "0           super!  great cooler excellent air flow and for this p...   \n",
       "1          awesome              best budget 2 fit cooler nice cooling   \n",
       "2             fair  the quality is good but the power of air is de...   \n",
       "3  useless product                  very bad product its a only a fan   \n",
       "5          awesome  the cooler is really fantastic and provides go...   \n",
       "\n",
       "  Sentiment  \n",
       "0  positive  \n",
       "1  positive  \n",
       "2  positive  \n",
       "3  negative  \n",
       "5  positive  "
      ]
     },
     "execution_count": 14,
     "metadata": {},
     "output_type": "execute_result"
    }
   ],
   "source": [
    "df.head()"
   ]
  },
  {
   "cell_type": "code",
   "execution_count": 15,
   "id": "007a7056",
   "metadata": {
    "execution": {
     "iopub.execute_input": "2023-02-25T14:34:10.138656Z",
     "iopub.status.busy": "2023-02-25T14:34:10.137585Z",
     "iopub.status.idle": "2023-02-25T14:34:10.214751Z",
     "shell.execute_reply": "2023-02-25T14:34:10.213305Z"
    },
    "id": "m8eHczYjdHkP",
    "outputId": "edf173bb-3f0f-42f3-d430-1cc67d6b562a",
    "papermill": {
     "duration": 0.097383,
     "end_time": "2023-02-25T14:34:10.217365",
     "exception": false,
     "start_time": "2023-02-25T14:34:10.119982",
     "status": "completed"
    },
    "tags": []
   },
   "outputs": [
    {
     "name": "stdout",
     "output_type": "stream",
     "text": [
      "<class 'pandas.core.frame.DataFrame'>\n",
      "Int64Index: 171572 entries, 0 to 205050\n",
      "Data columns (total 6 columns):\n",
      " #   Column         Non-Null Count   Dtype \n",
      "---  ------         --------------   ----- \n",
      " 0   product_name   171572 non-null  object\n",
      " 1   product_price  171572 non-null  object\n",
      " 2   Rate           171572 non-null  object\n",
      " 3   Review         171572 non-null  object\n",
      " 4   Summary        171572 non-null  object\n",
      " 5   Sentiment      171572 non-null  object\n",
      "dtypes: object(6)\n",
      "memory usage: 9.2+ MB\n"
     ]
    }
   ],
   "source": [
    "df=data\n",
    "data.info()"
   ]
  },
  {
   "cell_type": "markdown",
   "id": "a84ffc7c",
   "metadata": {},
   "source": [
    "# Feature Extraction"
   ]
  },
  {
   "cell_type": "code",
   "execution_count": 16,
   "id": "43e8d770",
   "metadata": {
    "execution": {
     "iopub.execute_input": "2023-02-25T14:34:10.249956Z",
     "iopub.status.busy": "2023-02-25T14:34:10.249003Z",
     "iopub.status.idle": "2023-02-25T14:34:11.268179Z",
     "shell.execute_reply": "2023-02-25T14:34:11.266944Z"
    },
    "id": "-V1-BbjjdHkR",
    "outputId": "800ff802-424d-41fe-e40e-af09f8ab75d3",
    "papermill": {
     "duration": 1.038932,
     "end_time": "2023-02-25T14:34:11.271679",
     "exception": false,
     "start_time": "2023-02-25T14:34:10.232747",
     "status": "completed"
    },
    "tags": []
   },
   "outputs": [
    {
     "name": "stdout",
     "output_type": "stream",
     "text": [
      "Total number of features:  1257\n"
     ]
    },
    {
     "name": "stderr",
     "output_type": "stream",
     "text": [
      "C:\\Program Files\\Anaconda\\lib\\site-packages\\sklearn\\utils\\deprecation.py:87: FutureWarning: Function get_feature_names is deprecated; get_feature_names is deprecated in 1.0 and will be removed in 1.2. Please use get_feature_names_out instead.\n",
      "  warnings.warn(msg, category=FutureWarning)\n"
     ]
    }
   ],
   "source": [
    "from sklearn.feature_extraction.text import CountVectorizer\n",
    "count_vectorizer=CountVectorizer()\n",
    "feature_vector=count_vectorizer.fit(data.Review)\n",
    "features=feature_vector.get_feature_names()\n",
    "print(\"Total number of features: \",len(features))"
   ]
  },
  {
   "cell_type": "code",
   "execution_count": 17,
   "id": "589aa5ff",
   "metadata": {
    "execution": {
     "iopub.execute_input": "2023-02-25T14:34:11.305640Z",
     "iopub.status.busy": "2023-02-25T14:34:11.305181Z",
     "iopub.status.idle": "2023-02-25T14:34:12.157175Z",
     "shell.execute_reply": "2023-02-25T14:34:12.155951Z"
    },
    "id": "iPnviLutdHkT",
    "papermill": {
     "duration": 0.871886,
     "end_time": "2023-02-25T14:34:12.160250",
     "exception": false,
     "start_time": "2023-02-25T14:34:11.288364",
     "status": "completed"
    },
    "tags": []
   },
   "outputs": [],
   "source": [
    "data_features=count_vectorizer.transform(data.Review)"
   ]
  },
  {
   "cell_type": "code",
   "execution_count": 18,
   "id": "7ce855fb",
   "metadata": {
    "execution": {
     "iopub.execute_input": "2023-02-25T14:34:12.193076Z",
     "iopub.status.busy": "2023-02-25T14:34:12.192454Z",
     "iopub.status.idle": "2023-02-25T14:34:12.199766Z",
     "shell.execute_reply": "2023-02-25T14:34:12.198510Z"
    },
    "id": "txjpqFQVdHkV",
    "outputId": "b4bd8d96-308e-441d-c39a-012f71abce52",
    "papermill": {
     "duration": 0.026231,
     "end_time": "2023-02-25T14:34:12.202322",
     "exception": false,
     "start_time": "2023-02-25T14:34:12.176091",
     "status": "completed"
    },
    "tags": []
   },
   "outputs": [
    {
     "data": {
      "text/plain": [
       "(171572, 1257)"
      ]
     },
     "execution_count": 18,
     "metadata": {},
     "output_type": "execute_result"
    }
   ],
   "source": [
    "data_features.shape"
   ]
  },
  {
   "cell_type": "code",
   "execution_count": 19,
   "id": "d6816c01",
   "metadata": {
    "execution": {
     "iopub.execute_input": "2023-02-25T14:34:12.235104Z",
     "iopub.status.busy": "2023-02-25T14:34:12.234413Z",
     "iopub.status.idle": "2023-02-25T14:34:12.241941Z",
     "shell.execute_reply": "2023-02-25T14:34:12.240584Z"
    },
    "id": "_DqSBNv7dHkX",
    "outputId": "bf4b0519-2ff4-46c4-ef2b-167c4411c364",
    "papermill": {
     "duration": 0.026317,
     "end_time": "2023-02-25T14:34:12.244434",
     "exception": false,
     "start_time": "2023-02-25T14:34:12.218117",
     "status": "completed"
    },
    "tags": []
   },
   "outputs": [
    {
     "data": {
      "text/plain": [
       "336296"
      ]
     },
     "execution_count": 19,
     "metadata": {},
     "output_type": "execute_result"
    }
   ],
   "source": [
    "data_features.getnnz()"
   ]
  },
  {
   "cell_type": "code",
   "execution_count": 20,
   "id": "823a0c7e",
   "metadata": {
    "execution": {
     "iopub.execute_input": "2023-02-25T14:34:12.277343Z",
     "iopub.status.busy": "2023-02-25T14:34:12.276955Z",
     "iopub.status.idle": "2023-02-25T14:34:12.282989Z",
     "shell.execute_reply": "2023-02-25T14:34:12.281645Z"
    },
    "id": "RI9BIxZadHkY",
    "outputId": "62998cff-9d27-4eb1-a280-7c48bf8913d3",
    "papermill": {
     "duration": 0.025882,
     "end_time": "2023-02-25T14:34:12.285956",
     "exception": false,
     "start_time": "2023-02-25T14:34:12.260074",
     "status": "completed"
    },
    "tags": []
   },
   "outputs": [
    {
     "name": "stdout",
     "output_type": "stream",
     "text": [
      "Density of the matrix:  0.15593370942227872\n"
     ]
    }
   ],
   "source": [
    "print(\"Density of the matrix: \",data_features.getnnz()*100 /  \n",
    "    (data_features.shape[0]* data_features.shape[1]))"
   ]
  },
  {
   "cell_type": "code",
   "execution_count": 21,
   "id": "e3667aca",
   "metadata": {
    "execution": {
     "iopub.execute_input": "2023-02-25T14:34:12.319095Z",
     "iopub.status.busy": "2023-02-25T14:34:12.318673Z",
     "iopub.status.idle": "2023-02-25T14:34:13.294850Z",
     "shell.execute_reply": "2023-02-25T14:34:13.293389Z"
    },
    "id": "nOMJt8zpdHka",
    "papermill": {
     "duration": 0.996212,
     "end_time": "2023-02-25T14:34:13.297904",
     "exception": false,
     "start_time": "2023-02-25T14:34:12.301692",
     "status": "completed"
    },
    "tags": []
   },
   "outputs": [],
   "source": [
    "data_df=pd.DataFrame(data_features.todense())\n",
    "data_df.columns=features"
   ]
  },
  {
   "cell_type": "code",
   "execution_count": 22,
   "id": "9a954475",
   "metadata": {
    "execution": {
     "iopub.execute_input": "2023-02-25T14:34:13.332708Z",
     "iopub.status.busy": "2023-02-25T14:34:13.332291Z",
     "iopub.status.idle": "2023-02-25T14:34:13.347066Z",
     "shell.execute_reply": "2023-02-25T14:34:13.345719Z"
    },
    "id": "TR_dGD9BdHkb",
    "outputId": "b7494049-1d30-4f0e-cc03-45c2af1a076c",
    "papermill": {
     "duration": 0.036323,
     "end_time": "2023-02-25T14:34:13.350364",
     "exception": false,
     "start_time": "2023-02-25T14:34:13.314041",
     "status": "completed"
    },
    "tags": []
   },
   "outputs": [
    {
     "data": {
      "text/html": [
       "<div>\n",
       "<style scoped>\n",
       "    .dataframe tbody tr th:only-of-type {\n",
       "        vertical-align: middle;\n",
       "    }\n",
       "\n",
       "    .dataframe tbody tr th {\n",
       "        vertical-align: top;\n",
       "    }\n",
       "\n",
       "    .dataframe thead th {\n",
       "        text-align: right;\n",
       "    }\n",
       "</style>\n",
       "<table border=\"1\" class=\"dataframe\">\n",
       "  <thead>\n",
       "    <tr style=\"text-align: right;\">\n",
       "      <th></th>\n",
       "      <th>product_name</th>\n",
       "      <th>product_price</th>\n",
       "      <th>Rate</th>\n",
       "      <th>Review</th>\n",
       "      <th>Summary</th>\n",
       "      <th>Sentiment</th>\n",
       "    </tr>\n",
       "  </thead>\n",
       "  <tbody>\n",
       "    <tr>\n",
       "      <th>0</th>\n",
       "      <td>Candes 12 L Room/Personal Air Cooler??????(Whi...</td>\n",
       "      <td>3999</td>\n",
       "      <td>5</td>\n",
       "      <td>super!</td>\n",
       "      <td>great cooler excellent air flow and for this p...</td>\n",
       "      <td>positive</td>\n",
       "    </tr>\n",
       "  </tbody>\n",
       "</table>\n",
       "</div>"
      ],
      "text/plain": [
       "                                        product_name product_price Rate  \\\n",
       "0  Candes 12 L Room/Personal Air Cooler??????(Whi...          3999    5   \n",
       "\n",
       "   Review                                            Summary Sentiment  \n",
       "0  super!  great cooler excellent air flow and for this p...  positive  "
      ]
     },
     "execution_count": 22,
     "metadata": {},
     "output_type": "execute_result"
    }
   ],
   "source": [
    "data[0:1]"
   ]
  },
  {
   "cell_type": "code",
   "execution_count": 23,
   "id": "093a76d0",
   "metadata": {
    "execution": {
     "iopub.execute_input": "2023-02-25T14:34:13.385201Z",
     "iopub.status.busy": "2023-02-25T14:34:13.383744Z",
     "iopub.status.idle": "2023-02-25T14:34:13.398313Z",
     "shell.execute_reply": "2023-02-25T14:34:13.396898Z"
    },
    "id": "sq-AjT-2gXsL",
    "outputId": "2782f445-905f-4be8-c1bd-ac5ed5b464bb",
    "papermill": {
     "duration": 0.034446,
     "end_time": "2023-02-25T14:34:13.400949",
     "exception": false,
     "start_time": "2023-02-25T14:34:13.366503",
     "status": "completed"
    },
    "tags": []
   },
   "outputs": [
    {
     "data": {
      "text/html": [
       "<div>\n",
       "<style scoped>\n",
       "    .dataframe tbody tr th:only-of-type {\n",
       "        vertical-align: middle;\n",
       "    }\n",
       "\n",
       "    .dataframe tbody tr th {\n",
       "        vertical-align: top;\n",
       "    }\n",
       "\n",
       "    .dataframe thead th {\n",
       "        text-align: right;\n",
       "    }\n",
       "</style>\n",
       "<table border=\"1\" class=\"dataframe\">\n",
       "  <thead>\n",
       "    <tr style=\"text-align: right;\">\n",
       "      <th></th>\n",
       "      <th>beware</th>\n",
       "      <th>beyond</th>\n",
       "      <th>big</th>\n",
       "      <th>biggest</th>\n",
       "      <th>billion</th>\n",
       "      <th>bishnu</th>\n",
       "      <th>bit</th>\n",
       "    </tr>\n",
       "  </thead>\n",
       "  <tbody>\n",
       "    <tr>\n",
       "      <th>0</th>\n",
       "      <td>0</td>\n",
       "      <td>0</td>\n",
       "      <td>0</td>\n",
       "      <td>0</td>\n",
       "      <td>0</td>\n",
       "      <td>0</td>\n",
       "      <td>0</td>\n",
       "    </tr>\n",
       "  </tbody>\n",
       "</table>\n",
       "</div>"
      ],
      "text/plain": [
       "   beware  beyond  big  biggest  billion  bishnu  bit\n",
       "0       0       0    0        0        0       0    0"
      ]
     },
     "execution_count": 23,
     "metadata": {},
     "output_type": "execute_result"
    }
   ],
   "source": [
    "data_df.iloc[:1,150:157]"
   ]
  },
  {
   "cell_type": "code",
   "execution_count": 24,
   "id": "4b847b56",
   "metadata": {
    "execution": {
     "iopub.execute_input": "2023-02-25T14:34:13.434569Z",
     "iopub.status.busy": "2023-02-25T14:34:13.434163Z",
     "iopub.status.idle": "2023-02-25T14:34:14.910578Z",
     "shell.execute_reply": "2023-02-25T14:34:14.909426Z"
    },
    "id": "3ZkcJUpLhF1E",
    "papermill": {
     "duration": 1.496487,
     "end_time": "2023-02-25T14:34:14.913412",
     "exception": false,
     "start_time": "2023-02-25T14:34:13.416925",
     "status": "completed"
    },
    "tags": []
   },
   "outputs": [],
   "source": [
    "features_counts=np.sum(data_features.toarray(),axis = 0)\n",
    "features_counts_df=pd.DataFrame(dict(features=features,counts=features_counts))"
   ]
  },
  {
   "cell_type": "code",
   "execution_count": 25,
   "id": "f7e73bf1",
   "metadata": {
    "execution": {
     "iopub.execute_input": "2023-02-25T14:34:14.947648Z",
     "iopub.status.busy": "2023-02-25T14:34:14.947252Z",
     "iopub.status.idle": "2023-02-25T14:34:15.286031Z",
     "shell.execute_reply": "2023-02-25T14:34:15.284840Z"
    },
    "id": "yjlRVY7chZqw",
    "outputId": "f4eaf86b-5505-45da-cf0c-96098ca677e5",
    "papermill": {
     "duration": 0.359378,
     "end_time": "2023-02-25T14:34:15.288555",
     "exception": false,
     "start_time": "2023-02-25T14:34:14.929177",
     "status": "completed"
    },
    "tags": []
   },
   "outputs": [
    {
     "data": {
      "text/plain": [
       "Text(0, 0.5, 'Density')"
      ]
     },
     "execution_count": 25,
     "metadata": {},
     "output_type": "execute_result"
    },
    {
     "data": {
      "image/png": "[encoded data removed]",
      "text/plain": [
       "<Figure size 864x360 with 1 Axes>"
      ]
     },
     "metadata": {
      "needs_background": "light"
     },
     "output_type": "display_data"
    }
   ],
   "source": [
    "plt.figure(figsize=(12,5))\n",
    "plt.hist(features_counts_df.counts,bins=50,range=(0 ,5000))\n",
    "plt.xlabel('Frequency of words')\n",
    "plt.ylabel('Density')"
   ]
  },
  {
   "cell_type": "code",
   "execution_count": 26,
   "id": "80ae1d1f",
   "metadata": {
    "execution": {
     "iopub.execute_input": "2023-02-25T14:34:15.323145Z",
     "iopub.status.busy": "2023-02-25T14:34:15.322696Z",
     "iopub.status.idle": "2023-02-25T14:34:15.334320Z",
     "shell.execute_reply": "2023-02-25T14:34:15.333024Z"
    },
    "id": "tOA5EJTnh7eA",
    "outputId": "3786a7f3-777a-480e-d97d-c79d1fe12d4a",
    "papermill": {
     "duration": 0.03196,
     "end_time": "2023-02-25T14:34:15.337141",
     "exception": false,
     "start_time": "2023-02-25T14:34:15.305181",
     "status": "completed"
    },
    "tags": []
   },
   "outputs": [
    {
     "data": {
      "text/plain": [
       "680"
      ]
     },
     "execution_count": 26,
     "metadata": {},
     "output_type": "execute_result"
    }
   ],
   "source": [
    "len(features_counts_df[features_counts_df.counts == 1])"
   ]
  },
  {
   "cell_type": "markdown",
   "id": "7f50b755",
   "metadata": {},
   "source": [
    "# Tokenization using CountVectorizer"
   ]
  },
  {
   "cell_type": "code",
   "execution_count": 27,
   "id": "d71ca62a",
   "metadata": {
    "execution": {
     "iopub.execute_input": "2023-02-25T14:34:15.371862Z",
     "iopub.status.busy": "2023-02-25T14:34:15.371366Z",
     "iopub.status.idle": "2023-02-25T14:34:18.415226Z",
     "shell.execute_reply": "2023-02-25T14:34:18.413845Z"
    },
    "id": "ogx4Hj_NiVpk",
    "outputId": "352a33f1-7bb4-4d2f-f85a-3cb68fd3eec0",
    "papermill": {
     "duration": 3.064464,
     "end_time": "2023-02-25T14:34:18.418155",
     "exception": false,
     "start_time": "2023-02-25T14:34:15.353691",
     "status": "completed"
    },
    "tags": []
   },
   "outputs": [
    {
     "name": "stderr",
     "output_type": "stream",
     "text": [
      "C:\\Program Files\\Anaconda\\lib\\site-packages\\sklearn\\utils\\deprecation.py:87: FutureWarning: Function get_feature_names is deprecated; get_feature_names is deprecated in 1.0 and will be removed in 1.2. Please use get_feature_names_out instead.\n",
      "  warnings.warn(msg, category=FutureWarning)\n"
     ]
    }
   ],
   "source": [
    "count_vectorizer=CountVectorizer(max_features=10000)\n",
    "feature_vector=count_vectorizer.fit(data.Review)\n",
    "features=feature_vector.get_feature_names()\n",
    "data_features=count_vectorizer.transform(data.Review)\n",
    "features_counts=np.sum(data_features.toarray() , axis = 0)\n",
    "feature_counts=pd.DataFrame(dict(features=features,counts=features_counts))"
   ]
  },
  {
   "cell_type": "code",
   "execution_count": 28,
   "id": "1373c9d1",
   "metadata": {
    "execution": {
     "iopub.execute_input": "2023-02-25T14:34:18.452548Z",
     "iopub.status.busy": "2023-02-25T14:34:18.452136Z",
     "iopub.status.idle": "2023-02-25T14:34:18.465479Z",
     "shell.execute_reply": "2023-02-25T14:34:18.464341Z"
    },
    "id": "RQRU3cYAjo5t",
    "outputId": "23b05586-2827-497e-dac6-1e51dadd2339",
    "papermill": {
     "duration": 0.033735,
     "end_time": "2023-02-25T14:34:18.468157",
     "exception": false,
     "start_time": "2023-02-25T14:34:18.434422",
     "status": "completed"
    },
    "tags": []
   },
   "outputs": [
    {
     "data": {
      "text/html": [
       "<div>\n",
       "<style scoped>\n",
       "    .dataframe tbody tr th:only-of-type {\n",
       "        vertical-align: middle;\n",
       "    }\n",
       "\n",
       "    .dataframe tbody tr th {\n",
       "        vertical-align: top;\n",
       "    }\n",
       "\n",
       "    .dataframe thead th {\n",
       "        text-align: right;\n",
       "    }\n",
       "</style>\n",
       "<table border=\"1\" class=\"dataframe\">\n",
       "  <thead>\n",
       "    <tr style=\"text-align: right;\">\n",
       "      <th></th>\n",
       "      <th>features</th>\n",
       "      <th>counts</th>\n",
       "    </tr>\n",
       "  </thead>\n",
       "  <tbody>\n",
       "    <tr>\n",
       "      <th>882</th>\n",
       "      <td>product</td>\n",
       "      <td>28475</td>\n",
       "    </tr>\n",
       "    <tr>\n",
       "      <th>494</th>\n",
       "      <td>good</td>\n",
       "      <td>16156</td>\n",
       "    </tr>\n",
       "    <tr>\n",
       "      <th>110</th>\n",
       "      <td>awesome</td>\n",
       "      <td>11073</td>\n",
       "    </tr>\n",
       "    <tr>\n",
       "      <th>773</th>\n",
       "      <td>not</td>\n",
       "      <td>10860</td>\n",
       "    </tr>\n",
       "    <tr>\n",
       "      <th>892</th>\n",
       "      <td>purchase</td>\n",
       "      <td>10779</td>\n",
       "    </tr>\n",
       "    <tr>\n",
       "      <th>1105</th>\n",
       "      <td>terrific</td>\n",
       "      <td>10773</td>\n",
       "    </tr>\n",
       "    <tr>\n",
       "      <th>1110</th>\n",
       "      <td>the</td>\n",
       "      <td>10496</td>\n",
       "    </tr>\n",
       "    <tr>\n",
       "      <th>737</th>\n",
       "      <td>money</td>\n",
       "      <td>8866</td>\n",
       "    </tr>\n",
       "    <tr>\n",
       "      <th>1227</th>\n",
       "      <td>wonderful</td>\n",
       "      <td>8807</td>\n",
       "    </tr>\n",
       "    <tr>\n",
       "      <th>1237</th>\n",
       "      <td>worth</td>\n",
       "      <td>8788</td>\n",
       "    </tr>\n",
       "    <tr>\n",
       "      <th>767</th>\n",
       "      <td>nice</td>\n",
       "      <td>8652</td>\n",
       "    </tr>\n",
       "    <tr>\n",
       "      <th>1048</th>\n",
       "      <td>specified</td>\n",
       "      <td>7850</td>\n",
       "    </tr>\n",
       "    <tr>\n",
       "      <th>621</th>\n",
       "      <td>just</td>\n",
       "      <td>7022</td>\n",
       "    </tr>\n",
       "    <tr>\n",
       "      <th>918</th>\n",
       "      <td>recommended</td>\n",
       "      <td>6516</td>\n",
       "    </tr>\n",
       "    <tr>\n",
       "      <th>500</th>\n",
       "      <td>great</td>\n",
       "      <td>5606</td>\n",
       "    </tr>\n",
       "  </tbody>\n",
       "</table>\n",
       "</div>"
      ],
      "text/plain": [
       "         features  counts\n",
       "882       product   28475\n",
       "494          good   16156\n",
       "110       awesome   11073\n",
       "773           not   10860\n",
       "892      purchase   10779\n",
       "1105     terrific   10773\n",
       "1110          the   10496\n",
       "737         money    8866\n",
       "1227    wonderful    8807\n",
       "1237        worth    8788\n",
       "767          nice    8652\n",
       "1048    specified    7850\n",
       "621          just    7022\n",
       "918   recommended    6516\n",
       "500         great    5606"
      ]
     },
     "execution_count": 28,
     "metadata": {},
     "output_type": "execute_result"
    }
   ],
   "source": [
    "feature_counts.sort_values('counts',ascending = False)[0:15]"
   ]
  },
  {
   "cell_type": "markdown",
   "id": "3b40d22f",
   "metadata": {},
   "source": [
    "# Identifying Stopwords"
   ]
  },
  {
   "cell_type": "code",
   "execution_count": 29,
   "id": "cd9cd59e",
   "metadata": {
    "execution": {
     "iopub.execute_input": "2023-02-25T14:34:18.502820Z",
     "iopub.status.busy": "2023-02-25T14:34:18.502403Z",
     "iopub.status.idle": "2023-02-25T14:34:19.419875Z",
     "shell.execute_reply": "2023-02-25T14:34:19.418615Z"
    },
    "id": "voX4uuJbmqHb",
    "outputId": "aebbfe41-1815-4c1b-c83e-8d8ed4a625fd",
    "papermill": {
     "duration": 0.938202,
     "end_time": "2023-02-25T14:34:19.422630",
     "exception": false,
     "start_time": "2023-02-25T14:34:18.484428",
     "status": "completed"
    },
    "tags": []
   },
   "outputs": [
    {
     "name": "stderr",
     "output_type": "stream",
     "text": [
      "[nltk_data] Downloading package stopwords to\n",
      "[nltk_data]     C:\\Users\\Pradeep\\AppData\\Roaming\\nltk_data...\n",
      "[nltk_data]   Package stopwords is already up-to-date!\n"
     ]
    }
   ],
   "source": [
    "from nltk.corpus import stopwords\n",
    "import nltk\n",
    "nltk.download('stopwords')\n",
    "english_stop_words = stopwords.words('english')"
   ]
  },
  {
   "cell_type": "code",
   "execution_count": 30,
   "id": "187e9744",
   "metadata": {
    "execution": {
     "iopub.execute_input": "2023-02-25T14:34:19.457714Z",
     "iopub.status.busy": "2023-02-25T14:34:19.457233Z",
     "iopub.status.idle": "2023-02-25T14:34:19.465079Z",
     "shell.execute_reply": "2023-02-25T14:34:19.464003Z"
    },
    "id": "UnWs7DgFnrv2",
    "outputId": "66175931-a51c-491d-8de7-608e768f3aa3",
    "papermill": {
     "duration": 0.028037,
     "end_time": "2023-02-25T14:34:19.467392",
     "exception": false,
     "start_time": "2023-02-25T14:34:19.439355",
     "status": "completed"
    },
    "tags": []
   },
   "outputs": [
    {
     "data": {
      "text/plain": [
       "0             super!\n",
       "1            awesome\n",
       "2               fair\n",
       "3    useless product\n",
       "5            awesome\n",
       "Name: Review, dtype: object"
      ]
     },
     "execution_count": 30,
     "metadata": {},
     "output_type": "execute_result"
    }
   ],
   "source": [
    "data['Review'][0:5]"
   ]
  },
  {
   "cell_type": "code",
   "execution_count": 31,
   "id": "08ef9f12",
   "metadata": {
    "execution": {
     "iopub.execute_input": "2023-02-25T14:34:19.502475Z",
     "iopub.status.busy": "2023-02-25T14:34:19.502089Z",
     "iopub.status.idle": "2023-02-25T14:34:22.563965Z",
     "shell.execute_reply": "2023-02-25T14:34:22.562411Z"
    },
    "id": "3VT-DvOqn-hN",
    "outputId": "1d3c1dbe-cd5a-4a0f-c682-364f557461ea",
    "papermill": {
     "duration": 3.08287,
     "end_time": "2023-02-25T14:34:22.567007",
     "exception": false,
     "start_time": "2023-02-25T14:34:19.484137",
     "status": "completed"
    },
    "tags": []
   },
   "outputs": [
    {
     "name": "stderr",
     "output_type": "stream",
     "text": [
      "C:\\Program Files\\Anaconda\\lib\\site-packages\\sklearn\\utils\\deprecation.py:87: FutureWarning: Function get_feature_names is deprecated; get_feature_names is deprecated in 1.0 and will be removed in 1.2. Please use get_feature_names_out instead.\n",
      "  warnings.warn(msg, category=FutureWarning)\n"
     ]
    }
   ],
   "source": [
    "count_vectorizer=CountVectorizer(stop_words=english_stop_words,max_features=10000)\n",
    "feature_vector=count_vectorizer.fit(data.Review)\n",
    "data_features=count_vectorizer.transform(data.Review)\n",
    "features=feature_vector.get_feature_names()\n",
    "features_counts=np.sum(data_features.toarray(),axis=0)\n",
    "feature_counts=pd.DataFrame(dict(features=features,counts=features_counts))"
   ]
  },
  {
   "cell_type": "code",
   "execution_count": 32,
   "id": "b0239ee2",
   "metadata": {
    "execution": {
     "iopub.execute_input": "2023-02-25T14:34:22.602569Z",
     "iopub.status.busy": "2023-02-25T14:34:22.602153Z",
     "iopub.status.idle": "2023-02-25T14:34:22.616037Z",
     "shell.execute_reply": "2023-02-25T14:34:22.615060Z"
    },
    "id": "h5vuF2S1o6nE",
    "outputId": "14dff0ad-8527-42ed-a87b-61cd08ba1f86",
    "papermill": {
     "duration": 0.034393,
     "end_time": "2023-02-25T14:34:22.618283",
     "exception": false,
     "start_time": "2023-02-25T14:34:22.583890",
     "status": "completed"
    },
    "tags": []
   },
   "outputs": [
    {
     "data": {
      "text/html": [
       "<div>\n",
       "<style scoped>\n",
       "    .dataframe tbody tr th:only-of-type {\n",
       "        vertical-align: middle;\n",
       "    }\n",
       "\n",
       "    .dataframe tbody tr th {\n",
       "        vertical-align: top;\n",
       "    }\n",
       "\n",
       "    .dataframe thead th {\n",
       "        text-align: right;\n",
       "    }\n",
       "</style>\n",
       "<table border=\"1\" class=\"dataframe\">\n",
       "  <thead>\n",
       "    <tr style=\"text-align: right;\">\n",
       "      <th></th>\n",
       "      <th>features</th>\n",
       "      <th>counts</th>\n",
       "    </tr>\n",
       "  </thead>\n",
       "  <tbody>\n",
       "    <tr>\n",
       "      <th>824</th>\n",
       "      <td>product</td>\n",
       "      <td>28475</td>\n",
       "    </tr>\n",
       "    <tr>\n",
       "      <th>461</th>\n",
       "      <td>good</td>\n",
       "      <td>16156</td>\n",
       "    </tr>\n",
       "    <tr>\n",
       "      <th>99</th>\n",
       "      <td>awesome</td>\n",
       "      <td>11073</td>\n",
       "    </tr>\n",
       "    <tr>\n",
       "      <th>834</th>\n",
       "      <td>purchase</td>\n",
       "      <td>10779</td>\n",
       "    </tr>\n",
       "    <tr>\n",
       "      <th>1042</th>\n",
       "      <td>terrific</td>\n",
       "      <td>10773</td>\n",
       "    </tr>\n",
       "    <tr>\n",
       "      <th>694</th>\n",
       "      <td>money</td>\n",
       "      <td>8866</td>\n",
       "    </tr>\n",
       "    <tr>\n",
       "      <th>1145</th>\n",
       "      <td>wonderful</td>\n",
       "      <td>8807</td>\n",
       "    </tr>\n",
       "    <tr>\n",
       "      <th>1155</th>\n",
       "      <td>worth</td>\n",
       "      <td>8788</td>\n",
       "    </tr>\n",
       "    <tr>\n",
       "      <th>721</th>\n",
       "      <td>nice</td>\n",
       "      <td>8652</td>\n",
       "    </tr>\n",
       "    <tr>\n",
       "      <th>986</th>\n",
       "      <td>specified</td>\n",
       "      <td>7850</td>\n",
       "    </tr>\n",
       "    <tr>\n",
       "      <th>860</th>\n",
       "      <td>recommended</td>\n",
       "      <td>6516</td>\n",
       "    </tr>\n",
       "    <tr>\n",
       "      <th>467</th>\n",
       "      <td>great</td>\n",
       "      <td>5606</td>\n",
       "    </tr>\n",
       "    <tr>\n",
       "      <th>131</th>\n",
       "      <td>best</td>\n",
       "      <td>5557</td>\n",
       "    </tr>\n",
       "    <tr>\n",
       "      <th>155</th>\n",
       "      <td>brilliant</td>\n",
       "      <td>5538</td>\n",
       "    </tr>\n",
       "    <tr>\n",
       "      <th>778</th>\n",
       "      <td>perfect</td>\n",
       "      <td>5509</td>\n",
       "    </tr>\n",
       "  </tbody>\n",
       "</table>\n",
       "</div>"
      ],
      "text/plain": [
       "         features  counts\n",
       "824       product   28475\n",
       "461          good   16156\n",
       "99        awesome   11073\n",
       "834      purchase   10779\n",
       "1042     terrific   10773\n",
       "694         money    8866\n",
       "1145    wonderful    8807\n",
       "1155        worth    8788\n",
       "721          nice    8652\n",
       "986     specified    7850\n",
       "860   recommended    6516\n",
       "467         great    5606\n",
       "131          best    5557\n",
       "155     brilliant    5538\n",
       "778       perfect    5509"
      ]
     },
     "execution_count": 32,
     "metadata": {},
     "output_type": "execute_result"
    }
   ],
   "source": [
    "feature_counts.sort_values(\"counts\",ascending=False)[0:15]"
   ]
  },
  {
   "cell_type": "markdown",
   "id": "83e3f796",
   "metadata": {},
   "source": [
    "# Filtering Stemmed Non-Stop Words"
   ]
  },
  {
   "cell_type": "code",
   "execution_count": 33,
   "id": "6b9bd263",
   "metadata": {
    "execution": {
     "iopub.execute_input": "2023-02-25T14:34:22.654357Z",
     "iopub.status.busy": "2023-02-25T14:34:22.653950Z",
     "iopub.status.idle": "2023-02-25T14:34:22.660337Z",
     "shell.execute_reply": "2023-02-25T14:34:22.659317Z"
    },
    "id": "qbrFSCw5pIIU",
    "papermill": {
     "duration": 0.027278,
     "end_time": "2023-02-25T14:34:22.662662",
     "exception": false,
     "start_time": "2023-02-25T14:34:22.635384",
     "status": "completed"
    },
    "tags": []
   },
   "outputs": [],
   "source": [
    "from nltk.stem.snowball import PorterStemmer\n",
    "stemmer=PorterStemmer()\n",
    "analyzer=CountVectorizer().build_analyzer()\n",
    "def stemmed_words(doc):\n",
    "  stemmed_words=[stemmer.stem(w) for w in analyzer(doc)]\n",
    "  non_stop_words=[word for word in stemmed_words ]\n",
    "  return non_stop_words"
   ]
  },
  {
   "cell_type": "code",
   "execution_count": 34,
   "id": "44b3f215",
   "metadata": {
    "execution": {
     "iopub.execute_input": "2023-02-25T14:34:22.699709Z",
     "iopub.status.busy": "2023-02-25T14:34:22.699260Z",
     "iopub.status.idle": "2023-02-25T14:34:48.229804Z",
     "shell.execute_reply": "2023-02-25T14:34:48.228158Z"
    },
    "id": "5lIiN0egqf8S",
    "outputId": "0a1c20d9-bb0d-44bc-9d6e-ec5b2e6d9e0e",
    "papermill": {
     "duration": 25.553109,
     "end_time": "2023-02-25T14:34:48.232734",
     "exception": false,
     "start_time": "2023-02-25T14:34:22.679625",
     "status": "completed"
    },
    "tags": []
   },
   "outputs": [
    {
     "name": "stderr",
     "output_type": "stream",
     "text": [
      "C:\\Program Files\\Anaconda\\lib\\site-packages\\sklearn\\utils\\deprecation.py:87: FutureWarning: Function get_feature_names is deprecated; get_feature_names is deprecated in 1.0 and will be removed in 1.2. Please use get_feature_names_out instead.\n",
      "  warnings.warn(msg, category=FutureWarning)\n"
     ]
    }
   ],
   "source": [
    "count_vectorizer=CountVectorizer(analyzer=stemmed_words,max_features=10000)\n",
    "feature_vector=count_vectorizer.fit(data.Review)\n",
    "data_features=count_vectorizer.transform(data.Review)\n",
    "features=feature_vector.get_feature_names()\n",
    "features_counts=np.sum(data_features.toarray(),axis=0)\n",
    "feature_counts=pd.DataFrame(dict(features=features,counts=features_counts))"
   ]
  },
  {
   "cell_type": "code",
   "execution_count": 35,
   "id": "dfc8e95d",
   "metadata": {
    "execution": {
     "iopub.execute_input": "2023-02-25T14:34:48.268659Z",
     "iopub.status.busy": "2023-02-25T14:34:48.268265Z",
     "iopub.status.idle": "2023-02-25T14:34:48.282303Z",
     "shell.execute_reply": "2023-02-25T14:34:48.280882Z"
    },
    "id": "uCccGL9br_Nj",
    "outputId": "f6aa9219-f477-4a84-a6dc-b99701400de7",
    "papermill": {
     "duration": 0.035213,
     "end_time": "2023-02-25T14:34:48.285181",
     "exception": false,
     "start_time": "2023-02-25T14:34:48.249968",
     "status": "completed"
    },
    "tags": []
   },
   "outputs": [
    {
     "data": {
      "text/html": [
       "<div>\n",
       "<style scoped>\n",
       "    .dataframe tbody tr th:only-of-type {\n",
       "        vertical-align: middle;\n",
       "    }\n",
       "\n",
       "    .dataframe tbody tr th {\n",
       "        vertical-align: top;\n",
       "    }\n",
       "\n",
       "    .dataframe thead th {\n",
       "        text-align: right;\n",
       "    }\n",
       "</style>\n",
       "<table border=\"1\" class=\"dataframe\">\n",
       "  <thead>\n",
       "    <tr style=\"text-align: right;\">\n",
       "      <th></th>\n",
       "      <th>features</th>\n",
       "      <th>counts</th>\n",
       "    </tr>\n",
       "  </thead>\n",
       "  <tbody>\n",
       "    <tr>\n",
       "      <th>798</th>\n",
       "      <td>product</td>\n",
       "      <td>28476</td>\n",
       "    </tr>\n",
       "    <tr>\n",
       "      <th>450</th>\n",
       "      <td>good</td>\n",
       "      <td>16156</td>\n",
       "    </tr>\n",
       "    <tr>\n",
       "      <th>107</th>\n",
       "      <td>awesom</td>\n",
       "      <td>11073</td>\n",
       "    </tr>\n",
       "    <tr>\n",
       "      <th>699</th>\n",
       "      <td>not</td>\n",
       "      <td>10860</td>\n",
       "    </tr>\n",
       "    <tr>\n",
       "      <th>806</th>\n",
       "      <td>purchas</td>\n",
       "      <td>10780</td>\n",
       "    </tr>\n",
       "    <tr>\n",
       "      <th>996</th>\n",
       "      <td>terrif</td>\n",
       "      <td>10773</td>\n",
       "    </tr>\n",
       "    <tr>\n",
       "      <th>1000</th>\n",
       "      <td>the</td>\n",
       "      <td>10496</td>\n",
       "    </tr>\n",
       "    <tr>\n",
       "      <th>665</th>\n",
       "      <td>money</td>\n",
       "      <td>8866</td>\n",
       "    </tr>\n",
       "    <tr>\n",
       "      <th>1107</th>\n",
       "      <td>wonder</td>\n",
       "      <td>8809</td>\n",
       "    </tr>\n",
       "    <tr>\n",
       "      <th>1114</th>\n",
       "      <td>worth</td>\n",
       "      <td>8789</td>\n",
       "    </tr>\n",
       "    <tr>\n",
       "      <th>693</th>\n",
       "      <td>nice</td>\n",
       "      <td>8652</td>\n",
       "    </tr>\n",
       "    <tr>\n",
       "      <th>944</th>\n",
       "      <td>specifi</td>\n",
       "      <td>7850</td>\n",
       "    </tr>\n",
       "    <tr>\n",
       "      <th>562</th>\n",
       "      <td>just</td>\n",
       "      <td>7022</td>\n",
       "    </tr>\n",
       "    <tr>\n",
       "      <th>828</th>\n",
       "      <td>recommend</td>\n",
       "      <td>6518</td>\n",
       "    </tr>\n",
       "    <tr>\n",
       "      <th>456</th>\n",
       "      <td>great</td>\n",
       "      <td>5607</td>\n",
       "    </tr>\n",
       "  </tbody>\n",
       "</table>\n",
       "</div>"
      ],
      "text/plain": [
       "       features  counts\n",
       "798     product   28476\n",
       "450        good   16156\n",
       "107      awesom   11073\n",
       "699         not   10860\n",
       "806     purchas   10780\n",
       "996      terrif   10773\n",
       "1000        the   10496\n",
       "665       money    8866\n",
       "1107     wonder    8809\n",
       "1114      worth    8789\n",
       "693        nice    8652\n",
       "944     specifi    7850\n",
       "562        just    7022\n",
       "828   recommend    6518\n",
       "456       great    5607"
      ]
     },
     "execution_count": 35,
     "metadata": {},
     "output_type": "execute_result"
    }
   ],
   "source": [
    "feature_counts.sort_values(\"counts\",ascending = False)[0:15]"
   ]
  },
  {
   "cell_type": "markdown",
   "id": "b7aeb7c7",
   "metadata": {},
   "source": [
    "# Model Building-BernoulliNB"
   ]
  },
  {
   "cell_type": "code",
   "execution_count": 36,
   "id": "72e70b7d",
   "metadata": {
    "execution": {
     "iopub.execute_input": "2023-02-25T14:34:48.321642Z",
     "iopub.status.busy": "2023-02-25T14:34:48.321199Z",
     "iopub.status.idle": "2023-02-25T14:34:49.049427Z",
     "shell.execute_reply": "2023-02-25T14:34:49.048061Z"
    },
    "id": "eD15OzHxsQgi",
    "papermill": {
     "duration": 0.749889,
     "end_time": "2023-02-25T14:34:49.052420",
     "exception": false,
     "start_time": "2023-02-25T14:34:48.302531",
     "status": "completed"
    },
    "tags": []
   },
   "outputs": [],
   "source": [
    "data_df=pd.DataFrame(data_features.todense())\n",
    "data_df.columns=features\n",
    "data_df['Sentiment']=data.Sentiment"
   ]
  },
  {
   "cell_type": "code",
   "execution_count": 37,
   "id": "cc913c0c",
   "metadata": {
    "execution": {
     "iopub.execute_input": "2023-02-25T14:34:49.088556Z",
     "iopub.status.busy": "2023-02-25T14:34:49.088142Z",
     "iopub.status.idle": "2023-02-25T14:34:49.131019Z",
     "shell.execute_reply": "2023-02-25T14:34:49.129981Z"
    },
    "id": "GfEK4HKXsq-9",
    "papermill": {
     "duration": 0.064115,
     "end_time": "2023-02-25T14:34:49.133839",
     "exception": false,
     "start_time": "2023-02-25T14:34:49.069724",
     "status": "completed"
    },
    "tags": []
   },
   "outputs": [],
   "source": [
    "from sklearn.model_selection import train_test_split\n",
    "X_train,X_test,Y_train,Y_test=train_test_split(data_features,data.Sentiment,test_size=0.2,random_state=42)"
   ]
  },
  {
   "cell_type": "code",
   "execution_count": 39,
   "id": "629691a4",
   "metadata": {
    "execution": {
     "iopub.execute_input": "2023-02-25T14:34:49.170520Z",
     "iopub.status.busy": "2023-02-25T14:34:49.170118Z",
     "iopub.status.idle": "2023-02-25T14:34:55.199570Z",
     "shell.execute_reply": "2023-02-25T14:34:55.198311Z"
    },
    "id": "wvZ8ceabuKaU",
    "papermill": {
     "duration": 6.051182,
     "end_time": "2023-02-25T14:34:55.202263",
     "exception": false,
     "start_time": "2023-02-25T14:34:49.151081",
     "status": "completed"
    },
    "tags": []
   },
   "outputs": [
    {
     "data": {
      "text/plain": [
       "BernoulliNB()"
      ]
     },
     "execution_count": 39,
     "metadata": {},
     "output_type": "execute_result"
    }
   ],
   "source": [
    "from sklearn.naive_bayes import BernoulliNB\n",
    "nb_clf1=BernoulliNB()\n",
    "nb_clf1.fit(X_train.toarray(),Y_train)"
   ]
  },
  {
   "cell_type": "code",
   "execution_count": 40,
   "id": "26ed7000",
   "metadata": {
    "execution": {
     "iopub.execute_input": "2023-02-25T14:34:55.238670Z",
     "iopub.status.busy": "2023-02-25T14:34:55.238216Z",
     "iopub.status.idle": "2023-02-25T14:34:55.955264Z",
     "shell.execute_reply": "2023-02-25T14:34:55.953114Z"
    },
    "id": "3X2c8Gt6ugA0",
    "papermill": {
     "duration": 0.741217,
     "end_time": "2023-02-25T14:34:55.960734",
     "exception": false,
     "start_time": "2023-02-25T14:34:55.219517",
     "status": "completed"
    },
    "tags": []
   },
   "outputs": [],
   "source": [
    "test_predicted=nb_clf1.predict(X_test.toarray())"
   ]
  },
  {
   "cell_type": "code",
   "execution_count": 41,
   "id": "bd9d8e88",
   "metadata": {
    "execution": {
     "iopub.execute_input": "2023-02-25T14:34:56.045691Z",
     "iopub.status.busy": "2023-02-25T14:34:56.045272Z",
     "iopub.status.idle": "2023-02-25T14:34:57.452497Z",
     "shell.execute_reply": "2023-02-25T14:34:57.450849Z"
    },
    "papermill": {
     "duration": 1.449518,
     "end_time": "2023-02-25T14:34:57.455823",
     "exception": false,
     "start_time": "2023-02-25T14:34:56.006305",
     "status": "completed"
    },
    "tags": []
   },
   "outputs": [
    {
     "name": "stdout",
     "output_type": "stream",
     "text": [
      "              precision    recall  f1-score   support\n",
      "\n",
      "    negative       0.91      0.76      0.83      4793\n",
      "    positive       0.96      0.99      0.97     29522\n",
      "\n",
      "    accuracy                           0.96     34315\n",
      "   macro avg       0.94      0.87      0.90     34315\n",
      "weighted avg       0.96      0.96      0.95     34315\n",
      "\n"
     ]
    }
   ],
   "source": [
    "from sklearn import metrics\n",
    "print(metrics.classification_report(Y_test,test_predicted))"
   ]
  },
  {
   "cell_type": "code",
   "execution_count": 42,
   "id": "db6aa90b",
   "metadata": {
    "execution": {
     "iopub.execute_input": "2023-02-25T14:34:57.494867Z",
     "iopub.status.busy": "2023-02-25T14:34:57.494125Z",
     "iopub.status.idle": "2023-02-25T14:34:57.942869Z",
     "shell.execute_reply": "2023-02-25T14:34:57.941590Z"
    },
    "papermill": {
     "duration": 0.470322,
     "end_time": "2023-02-25T14:34:57.945388",
     "exception": false,
     "start_time": "2023-02-25T14:34:57.475066",
     "status": "completed"
    },
    "tags": []
   },
   "outputs": [
    {
     "data": {
      "text/plain": [
       "<AxesSubplot:>"
      ]
     },
     "execution_count": 42,
     "metadata": {},
     "output_type": "execute_result"
    },
    {
     "data": {
      "image/png": "[encoded data removed]",
      "text/plain": [
       "<Figure size 432x288 with 2 Axes>"
      ]
     },
     "metadata": {
      "needs_background": "light"
     },
     "output_type": "display_data"
    }
   ],
   "source": [
    "cm=metrics.confusion_matrix(Y_test,test_predicted)\n",
    "sns.heatmap(cm,annot=True,fmt='.2f')"
   ]
  },
  {
   "cell_type": "code",
   "execution_count": 43,
   "id": "3d61d59a",
   "metadata": {},
   "outputs": [
    {
     "name": "stdout",
     "output_type": "stream",
     "text": [
      "Accuracy of the model: 95.6316479673612%\n"
     ]
    }
   ],
   "source": [
    "from sklearn.metrics import accuracy_score\n",
    "print('Accuracy of the model: {0}%'.format(accuracy_score(Y_test,test_predicted)*100))"
   ]
  },
  {
   "cell_type": "markdown",
   "id": "22ccec9f",
   "metadata": {},
   "source": [
    "# Model Building-GaussianNB with TfidfVectorizer"
   ]
  },
  {
   "cell_type": "code",
   "execution_count": 44,
   "id": "c29abbb5",
   "metadata": {
    "execution": {
     "iopub.execute_input": "2023-02-25T14:34:57.983707Z",
     "iopub.status.busy": "2023-02-25T14:34:57.983232Z",
     "iopub.status.idle": "2023-02-25T14:35:22.145013Z",
     "shell.execute_reply": "2023-02-25T14:35:22.143327Z"
    },
    "papermill": {
     "duration": 24.183688,
     "end_time": "2023-02-25T14:35:22.147648",
     "exception": false,
     "start_time": "2023-02-25T14:34:57.963960",
     "status": "completed"
    },
    "tags": []
   },
   "outputs": [
    {
     "name": "stderr",
     "output_type": "stream",
     "text": [
      "C:\\Program Files\\Anaconda\\lib\\site-packages\\sklearn\\utils\\deprecation.py:87: FutureWarning: Function get_feature_names is deprecated; get_feature_names is deprecated in 1.0 and will be removed in 1.2. Please use get_feature_names_out instead.\n",
      "  warnings.warn(msg, category=FutureWarning)\n"
     ]
    }
   ],
   "source": [
    "from sklearn.feature_extraction.text import TfidfVectorizer\n",
    "tfidf_vectorizer=TfidfVectorizer(analyzer=stemmed_words,max_features = 10000)\n",
    "feature_vector=tfidf_vectorizer.fit(data.Review)\n",
    "data_features=tfidf_vectorizer.transform(data.Review)\n",
    "features=feature_vector.get_feature_names()"
   ]
  },
  {
   "cell_type": "code",
   "execution_count": 45,
   "id": "79608e2b",
   "metadata": {
    "execution": {
     "iopub.execute_input": "2023-02-25T14:35:22.371219Z",
     "iopub.status.busy": "2023-02-25T14:35:22.370776Z",
     "iopub.status.idle": "2023-02-25T14:35:22.410090Z",
     "shell.execute_reply": "2023-02-25T14:35:22.408566Z"
    },
    "papermill": {
     "duration": 0.062022,
     "end_time": "2023-02-25T14:35:22.413086",
     "exception": false,
     "start_time": "2023-02-25T14:35:22.351064",
     "status": "completed"
    },
    "tags": []
   },
   "outputs": [],
   "source": [
    "from sklearn.naive_bayes import GaussianNB\n",
    "X_train,X_test,Y_train,Y_test=train_test_split(data_features,data.Sentiment,test_size=0.2,random_state=42)"
   ]
  },
  {
   "cell_type": "code",
   "execution_count": 46,
   "id": "257bd075",
   "metadata": {
    "execution": {
     "iopub.execute_input": "2023-02-25T14:35:22.452847Z",
     "iopub.status.busy": "2023-02-25T14:35:22.452408Z",
     "iopub.status.idle": "2023-02-25T14:35:26.602750Z",
     "shell.execute_reply": "2023-02-25T14:35:26.601354Z"
    },
    "papermill": {
     "duration": 4.173551,
     "end_time": "2023-02-25T14:35:26.605464",
     "exception": false,
     "start_time": "2023-02-25T14:35:22.431913",
     "status": "completed"
    },
    "tags": []
   },
   "outputs": [
    {
     "data": {
      "text/plain": [
       "GaussianNB()"
      ]
     },
     "execution_count": 46,
     "metadata": {},
     "output_type": "execute_result"
    }
   ],
   "source": [
    "nb_clf2=GaussianNB()\n",
    "nb_clf2.fit(X_train.toarray(),Y_train)"
   ]
  },
  {
   "cell_type": "code",
   "execution_count": 47,
   "id": "20fc1840",
   "metadata": {
    "execution": {
     "iopub.execute_input": "2023-02-25T14:35:26.644492Z",
     "iopub.status.busy": "2023-02-25T14:35:26.644050Z",
     "iopub.status.idle": "2023-02-25T14:35:27.667594Z",
     "shell.execute_reply": "2023-02-25T14:35:27.666274Z"
    },
    "id": "3X2c8Gt6ugA0",
    "papermill": {
     "duration": 1.046935,
     "end_time": "2023-02-25T14:35:27.670644",
     "exception": false,
     "start_time": "2023-02-25T14:35:26.623709",
     "status": "completed"
    },
    "tags": []
   },
   "outputs": [],
   "source": [
    "test_predicted=nb_clf2.predict(X_test.toarray())"
   ]
  },
  {
   "cell_type": "code",
   "execution_count": 48,
   "id": "0bda1932",
   "metadata": {
    "execution": {
     "iopub.execute_input": "2023-02-25T14:35:27.712650Z",
     "iopub.status.busy": "2023-02-25T14:35:27.712203Z",
     "iopub.status.idle": "2023-02-25T14:35:29.112084Z",
     "shell.execute_reply": "2023-02-25T14:35:29.110663Z"
    },
    "papermill": {
     "duration": 1.423422,
     "end_time": "2023-02-25T14:35:29.114575",
     "exception": false,
     "start_time": "2023-02-25T14:35:27.691153",
     "status": "completed"
    },
    "tags": []
   },
   "outputs": [
    {
     "name": "stdout",
     "output_type": "stream",
     "text": [
      "              precision    recall  f1-score   support\n",
      "\n",
      "    negative       0.14      1.00      0.25      4793\n",
      "    positive       0.87      0.00      0.01     29522\n",
      "\n",
      "    accuracy                           0.14     34315\n",
      "   macro avg       0.50      0.50      0.13     34315\n",
      "weighted avg       0.77      0.14      0.04     34315\n",
      "\n"
     ]
    }
   ],
   "source": [
    "from sklearn import metrics\n",
    "print(metrics.classification_report(Y_test,test_predicted))"
   ]
  },
  {
   "cell_type": "code",
   "execution_count": 49,
   "id": "83e43fa3",
   "metadata": {
    "execution": {
     "iopub.execute_input": "2023-02-25T14:35:29.153342Z",
     "iopub.status.busy": "2023-02-25T14:35:29.152915Z",
     "iopub.status.idle": "2023-02-25T14:35:29.601708Z",
     "shell.execute_reply": "2023-02-25T14:35:29.600464Z"
    },
    "papermill": {
     "duration": 0.471613,
     "end_time": "2023-02-25T14:35:29.604432",
     "exception": false,
     "start_time": "2023-02-25T14:35:29.132819",
     "status": "completed"
    },
    "tags": []
   },
   "outputs": [
    {
     "data": {
      "text/plain": [
       "<AxesSubplot:>"
      ]
     },
     "execution_count": 49,
     "metadata": {},
     "output_type": "execute_result"
    },
    {
     "data": {
      "image/png": "[encoded data removed]",
      "text/plain": [
       "<Figure size 432x288 with 2 Axes>"
      ]
     },
     "metadata": {
      "needs_background": "light"
     },
     "output_type": "display_data"
    }
   ],
   "source": [
    "cm=metrics.confusion_matrix(Y_test,test_predicted)\n",
    "sns.heatmap(cm,annot=True,fmt='.2f')"
   ]
  },
  {
   "cell_type": "code",
   "execution_count": 50,
   "id": "ac8c4849",
   "metadata": {
    "execution": {
     "iopub.execute_input": "2023-02-25T14:35:29.645313Z",
     "iopub.status.busy": "2023-02-25T14:35:29.644898Z",
     "iopub.status.idle": "2023-02-25T14:35:29.738667Z",
     "shell.execute_reply": "2023-02-25T14:35:29.737752Z"
    },
    "papermill": {
     "duration": 0.116961,
     "end_time": "2023-02-25T14:35:29.741202",
     "exception": false,
     "start_time": "2023-02-25T14:35:29.624241",
     "status": "completed"
    },
    "tags": []
   },
   "outputs": [
    {
     "name": "stdout",
     "output_type": "stream",
     "text": [
      "Accuracy of the model: 14.250327844965756%\n"
     ]
    }
   ],
   "source": [
    "print('Accuracy of the model: {0}%'.format(accuracy_score(Y_test,test_predicted)*100))"
   ]
  },
  {
   "cell_type": "markdown",
   "id": "12cf2604",
   "metadata": {},
   "source": [
    "# Model Building-BernoulliNB with TFidfVectorizer"
   ]
  },
  {
   "cell_type": "code",
   "execution_count": 51,
   "id": "50a982f6",
   "metadata": {
    "execution": {
     "iopub.execute_input": "2023-02-25T14:35:29.783063Z",
     "iopub.status.busy": "2023-02-25T14:35:29.782502Z",
     "iopub.status.idle": "2023-02-25T14:35:29.790118Z",
     "shell.execute_reply": "2023-02-25T14:35:29.788936Z"
    },
    "papermill": {
     "duration": 0.032148,
     "end_time": "2023-02-25T14:35:29.792729",
     "exception": false,
     "start_time": "2023-02-25T14:35:29.760581",
     "status": "completed"
    },
    "tags": []
   },
   "outputs": [],
   "source": [
    "from nltk.stem import PorterStemmer\n",
    "import re\n",
    "stemmer=PorterStemmer()\n",
    "def get_stemmed_tokens(doc):\n",
    "  all_tokens=[word for word in nltk.word_tokenize(doc)]\n",
    "  clean_tokens=[]\n",
    "  for each_token in all_tokens:\n",
    "    if re.search('[a-zA-Z]',each_token):\n",
    "        clean_tokens.append(each_token)\n",
    "  stemmed_tokens=[stemmer.stem(t) for t in clean_tokens]\n",
    "  return stemmed_tokens"
   ]
  },
  {
   "cell_type": "code",
   "execution_count": 52,
   "id": "688e4d1a",
   "metadata": {
    "execution": {
     "iopub.execute_input": "2023-02-25T14:35:29.832838Z",
     "iopub.status.busy": "2023-02-25T14:35:29.832326Z",
     "iopub.status.idle": "2023-02-25T14:36:32.792557Z",
     "shell.execute_reply": "2023-02-25T14:36:32.791137Z"
    },
    "papermill": {
     "duration": 63.002617,
     "end_time": "2023-02-25T14:36:32.814206",
     "exception": false,
     "start_time": "2023-02-25T14:35:29.811589",
     "status": "completed"
    },
    "tags": []
   },
   "outputs": [
    {
     "name": "stderr",
     "output_type": "stream",
     "text": [
      "C:\\Program Files\\Anaconda\\lib\\site-packages\\sklearn\\feature_extraction\\text.py:516: UserWarning: The parameter 'token_pattern' will not be used since 'tokenizer' is not None'\n",
      "  warnings.warn(\n",
      "C:\\Program Files\\Anaconda\\lib\\site-packages\\sklearn\\feature_extraction\\text.py:396: UserWarning: Your stop_words may be inconsistent with your preprocessing. Tokenizing the stop words generated tokens ['abov', 'afterward', 'alon', 'alreadi', 'alway', 'ani', 'anoth', 'anyon', 'anyth', 'anywher', 'becam', 'becaus', 'becom', 'befor', 'besid', 'cri', 'describ', 'dure', 'els', 'elsewher', 'empti', 'everi', 'everyon', 'everyth', 'everywher', 'fifti', 'formerli', 'forti', 'ha', 'henc', 'hereaft', 'herebi', 'hi', 'howev', 'hundr', 'inde', 'latterli', 'mani', 'meanwhil', 'moreov', 'mostli', 'nobodi', 'noon', 'noth', 'nowher', 'onc', 'onli', 'otherwis', 'ourselv', 'perhap', 'pleas', 'seriou', 'sever', 'sinc', 'sincer', 'sixti', 'someon', 'someth', 'sometim', 'somewher', 'themselv', 'thenc', 'thereaft', 'therebi', 'therefor', 'thi', 'thu', 'togeth', 'twelv', 'twenti', 'veri', 'wa', 'whatev', 'whenc', 'whenev', 'wherea', 'whereaft', 'wherebi', 'wherev', 'whi', 'yourselv'] not in stop_words.\n",
      "  warnings.warn(\n",
      "C:\\Program Files\\Anaconda\\lib\\site-packages\\sklearn\\utils\\deprecation.py:87: FutureWarning: Function get_feature_names is deprecated; get_feature_names is deprecated in 1.0 and will be removed in 1.2. Please use get_feature_names_out instead.\n",
      "  warnings.warn(msg, category=FutureWarning)\n"
     ]
    }
   ],
   "source": [
    "tfidf_vectorizer=TfidfVectorizer(stop_words ='english',max_features=10000,tokenizer=get_stemmed_tokens,ngram_range=(1,2))\n",
    "feature_vector=tfidf_vectorizer.fit(data.Review)\n",
    "data_features=tfidf_vectorizer.transform(data.Review)\n",
    "features=feature_vector.get_feature_names()"
   ]
  },
  {
   "cell_type": "code",
   "execution_count": 53,
   "id": "a7defdbd",
   "metadata": {
    "execution": {
     "iopub.execute_input": "2023-02-25T14:36:32.854531Z",
     "iopub.status.busy": "2023-02-25T14:36:32.854107Z",
     "iopub.status.idle": "2023-02-25T14:36:43.168061Z",
     "shell.execute_reply": "2023-02-25T14:36:43.166800Z"
    },
    "papermill": {
     "duration": 10.337173,
     "end_time": "2023-02-25T14:36:43.170503",
     "exception": false,
     "start_time": "2023-02-25T14:36:32.833330",
     "status": "completed"
    },
    "tags": []
   },
   "outputs": [
    {
     "name": "stdout",
     "output_type": "stream",
     "text": [
      "              precision    recall  f1-score   support\n",
      "\n",
      "    negative       0.90      0.72      0.80      4793\n",
      "    positive       0.96      0.99      0.97     29522\n",
      "\n",
      "    accuracy                           0.95     34315\n",
      "   macro avg       0.93      0.85      0.89     34315\n",
      "weighted avg       0.95      0.95      0.95     34315\n",
      "\n"
     ]
    }
   ],
   "source": [
    "X_train,X_test,Y_train,Y_test=train_test_split(data_features,data.Sentiment,test_size=0.2,random_state=42)\n",
    "nb_clf3=BernoulliNB()\n",
    "nb_clf3.fit(X_train.toarray(),Y_train)\n",
    "test_predicted=nb_clf3.predict(X_test.toarray())\n",
    "print(metrics.classification_report(Y_test,test_predicted))"
   ]
  },
  {
   "cell_type": "code",
   "execution_count": 54,
   "id": "2df4243b",
   "metadata": {
    "execution": {
     "iopub.execute_input": "2023-02-25T14:36:43.212505Z",
     "iopub.status.busy": "2023-02-25T14:36:43.212018Z",
     "iopub.status.idle": "2023-02-25T14:36:43.659766Z",
     "shell.execute_reply": "2023-02-25T14:36:43.658534Z"
    },
    "papermill": {
     "duration": 0.472072,
     "end_time": "2023-02-25T14:36:43.662220",
     "exception": false,
     "start_time": "2023-02-25T14:36:43.190148",
     "status": "completed"
    },
    "tags": []
   },
   "outputs": [
    {
     "data": {
      "text/plain": [
       "<AxesSubplot:>"
      ]
     },
     "execution_count": 54,
     "metadata": {},
     "output_type": "execute_result"
    },
    {
     "data": {
      "image/png": "[encoded data removed]",
      "text/plain": [
       "<Figure size 432x288 with 2 Axes>"
      ]
     },
     "metadata": {
      "needs_background": "light"
     },
     "output_type": "display_data"
    }
   ],
   "source": [
    "cm=metrics.confusion_matrix(Y_test,test_predicted)\n",
    "sns.heatmap(cm,annot=True,fmt='.2f')"
   ]
  },
  {
   "cell_type": "code",
   "execution_count": 55,
   "id": "be268a69",
   "metadata": {
    "execution": {
     "iopub.execute_input": "2023-02-25T14:36:43.704267Z",
     "iopub.status.busy": "2023-02-25T14:36:43.703811Z",
     "iopub.status.idle": "2023-02-25T14:36:43.801247Z",
     "shell.execute_reply": "2023-02-25T14:36:43.799641Z"
    },
    "papermill": {
     "duration": 0.121894,
     "end_time": "2023-02-25T14:36:43.804054",
     "exception": false,
     "start_time": "2023-02-25T14:36:43.682160",
     "status": "completed"
    },
    "tags": []
   },
   "outputs": [
    {
     "name": "stdout",
     "output_type": "stream",
     "text": [
      "Accuracy of the model: 95.02258487541891%\n"
     ]
    }
   ],
   "source": [
    "print('Accuracy of the model: {0}%'.format(accuracy_score(Y_test,test_predicted)*100))"
   ]
  },
  {
   "cell_type": "code",
   "execution_count": 56,
   "id": "8cba0799",
   "metadata": {
    "execution": {
     "iopub.execute_input": "2023-02-25T14:36:43.846692Z",
     "iopub.status.busy": "2023-02-25T14:36:43.846280Z",
     "iopub.status.idle": "2023-02-25T14:36:43.856675Z",
     "shell.execute_reply": "2023-02-25T14:36:43.855212Z"
    },
    "papermill": {
     "duration": 0.035326,
     "end_time": "2023-02-25T14:36:43.859452",
     "exception": false,
     "start_time": "2023-02-25T14:36:43.824126",
     "status": "completed"
    },
    "tags": []
   },
   "outputs": [
    {
     "data": {
      "text/plain": [
       "0                  super!\n",
       "1                 awesome\n",
       "2                    fair\n",
       "3         useless product\n",
       "5                 awesome\n",
       "               ...       \n",
       "205046     classy product\n",
       "205047          must buy!\n",
       "205048             super!\n",
       "205049               nice\n",
       "205050          just wow!\n",
       "Name: Review, Length: 171572, dtype: object"
      ]
     },
     "execution_count": 56,
     "metadata": {},
     "output_type": "execute_result"
    }
   ],
   "source": [
    "data.Review"
   ]
  },
  {
   "cell_type": "code",
   "execution_count": 57,
   "id": "ce47d8b6",
   "metadata": {
    "execution": {
     "iopub.execute_input": "2023-02-25T14:36:43.903738Z",
     "iopub.status.busy": "2023-02-25T14:36:43.903232Z",
     "iopub.status.idle": "2023-02-25T14:36:43.914749Z",
     "shell.execute_reply": "2023-02-25T14:36:43.913915Z"
    },
    "papermill": {
     "duration": 0.037199,
     "end_time": "2023-02-25T14:36:43.917061",
     "exception": false,
     "start_time": "2023-02-25T14:36:43.879862",
     "status": "completed"
    },
    "tags": []
   },
   "outputs": [
    {
     "data": {
      "text/plain": [
       "<34315x3038 sparse matrix of type '<class 'numpy.float64'>'\n",
       "\twith 78863 stored elements in Compressed Sparse Row format>"
      ]
     },
     "execution_count": 57,
     "metadata": {},
     "output_type": "execute_result"
    }
   ],
   "source": [
    "X_test"
   ]
  },
  {
   "cell_type": "code",
   "execution_count": 58,
   "id": "3857c9bf",
   "metadata": {
    "execution": {
     "iopub.execute_input": "2023-02-25T14:36:43.965613Z",
     "iopub.status.busy": "2023-02-25T14:36:43.964323Z",
     "iopub.status.idle": "2023-02-25T14:36:43.972597Z",
     "shell.execute_reply": "2023-02-25T14:36:43.971351Z"
    },
    "papermill": {
     "duration": 0.032946,
     "end_time": "2023-02-25T14:36:43.975072",
     "exception": false,
     "start_time": "2023-02-25T14:36:43.942126",
     "status": "completed"
    },
    "tags": []
   },
   "outputs": [
    {
     "data": {
      "text/plain": [
       "<171572x3038 sparse matrix of type '<class 'numpy.float64'>'\n",
       "\twith 394118 stored elements in Compressed Sparse Row format>"
      ]
     },
     "execution_count": 58,
     "metadata": {},
     "output_type": "execute_result"
    }
   ],
   "source": [
    "data_features"
   ]
  }
 ],
 "metadata": {
  "kernelspec": {
   "display_name": "Python 3 (ipykernel)",
   "language": "python",
   "name": "python3"
  },
  "language_info": {
   "codemirror_mode": {
    "name": "ipython",
    "version": 3
   },
   "file_extension": ".py",
   "mimetype": "text/x-python",
   "name": "python",
   "nbconvert_exporter": "python",
   "pygments_lexer": "ipython3",
   "version": "3.9.12"
  },
  "papermill": {
   "default_parameters": {},
   "duration": 169.177822,
   "end_time": "2023-02-25T14:36:45.121222",
   "environment_variables": {},
   "exception": null,
   "input_path": "__notebook__.ipynb",
   "output_path": "__notebook__.ipynb",
   "parameters": {},
   "start_time": "2023-02-25T14:33:55.943400",
   "version": "2.3.4"
  }
 },
 "nbformat": 4,
 "nbformat_minor": 5
}
